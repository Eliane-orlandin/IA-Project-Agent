{
 "cells": [
  {
   "cell_type": "markdown",
   "metadata": {},
   "source": [
    "### Imports"
   ]
  },
  {
   "cell_type": "code",
   "execution_count": 38,
   "metadata": {},
   "outputs": [
    {
     "data": {
      "text/plain": [
       "True"
      ]
     },
     "execution_count": 38,
     "metadata": {},
     "output_type": "execute_result"
    }
   ],
   "source": [
    "import markdown\n",
    "import pdfkit\n",
    "from dotenv import load_dotenv, find_dotenv\n",
    "from crewai import Agent, Task, Crew\n",
    "from IPython.display import display, Markdown\n",
    "\n",
    "load_dotenv(find_dotenv())"
   ]
  },
  {
   "cell_type": "markdown",
   "metadata": {},
   "source": [
    "### Agentes\n",
    "- Pesquisador de Mercado\n",
    "- Analista de Tendências\n",
    "- Redator de Relatório"
   ]
  },
  {
   "cell_type": "code",
   "execution_count": 14,
   "metadata": {},
   "outputs": [],
   "source": [
    "pesquisador = Agent(\n",
    "    role=\"Pesquisador de mercado\",\n",
    "    goal=\"Coletar e organizar informações relevantes sobre {sector} para auxiliar na tomada de decisões estratégicas.\",\n",
    "    backstory=\"\"\"\n",
    "    Você é um pesquisaddor experiente que analisa tendências de mercado e coleta dados relevantes sobre {sector} . Seu trabalho é garantir que todas as informações estejam atulizadas e bem documentadas.\n",
    "    \"\"\",\n",
    "    allow_delegation=False,\n",
    "    verbose=True\n",
    ")"
   ]
  },
  {
   "cell_type": "code",
   "execution_count": 15,
   "metadata": {},
   "outputs": [],
   "source": [
    "analista = Agent(\n",
    "    role=\"Analista de tendências\",\n",
    "    goal=\"Analisar os dados do setor {sector} e identificar padrões e oportunidades de mercado.\",\n",
    "    backstory=\"\"\"\n",
    "    Você é um analista de mercado que examina os dados coletados para identificar tendências emergentes, oportunidades e ameaçs no setor {sector}\n",
    "    \"\"\",\n",
    "    allow_delegation=False,\n",
    "    verbose=True\n",
    ")"
   ]
  },
  {
   "cell_type": "code",
   "execution_count": 16,
   "metadata": {},
   "outputs": [],
   "source": [
    "redator = Agent(\n",
    "    role=\"Redator de relatórios\",\n",
    "    goal=\"Elaborar um relatório consolidado sobre análises de mercado do setor {sector}.\",\n",
    "    backstory=\"\"\"\n",
    "    Você é um redator profissional que transforma análises de mercado em um relatório estruturado e compreensível para tomadores de decisão.\n",
    "    \"\"\",\n",
    "    allow_delegation=False,\n",
    "    verbose=True\n",
    ")"
   ]
  },
  {
   "cell_type": "code",
   "execution_count": 17,
   "metadata": {},
   "outputs": [],
   "source": [
    "coleta_dados = Task(\n",
    "    description=(\n",
    "        \"1. Pesquisar e coletar informações atualizadas sobre {sector}.\"\n",
    "        \"2. Identificar os principais players, tendências e estatísticas do setor.\"\n",
    "        \"3. Organizar os dados de forma clara para análise.\"\n",
    "    ),\n",
    "    expected_output=\"Um documento estrruturado contendo dados de mercado sobre {sector}.\",\n",
    "    agent=pesquisador\n",
    ")"
   ]
  },
  {
   "cell_type": "code",
   "execution_count": 18,
   "metadata": {},
   "outputs": [],
   "source": [
    "analise_tendencias = Task(\n",
    "    description=(\n",
    "        \"1. Eaxaminar os dados coletados pelo Pesquisador de mercado.\"\n",
    "        \"2. Identificar padrões, tendências emergentes e oportunidade no setor {sector}.\"\n",
    "        \"3. Elaborar uma análise detalhada destacando os principais pontos.\"\n",
    "    ),\n",
    "    expected_output=\"Um relatório com insights e tendencias baseados nos dados do setor {sector}.\",\n",
    "    agent=analista\n",
    ")"
   ]
  },
  {
   "cell_type": "code",
   "execution_count": 19,
   "metadata": {},
   "outputs": [],
   "source": [
    "redacao_relatorio = Task(\n",
    "    description=(\n",
    "        \"1. Usar a análise de tendências para criar um relatório detalhado sobre {sector}.\"\n",
    "        \"2. Garantir que o relatório seja bem estruturrado e compreensível.\"\n",
    "        \"3. Apresentar um resumo executivo e recomendações finais.\"\n",
    "    ),\n",
    "    expected_output=\"Um relatório de análise de mercado em formato Markdown, pronto para leitura e apresentação.\",\n",
    "    agent=redator\n",
    ")"
   ]
  },
  {
   "cell_type": "code",
   "execution_count": 20,
   "metadata": {},
   "outputs": [
    {
     "name": "stderr",
     "output_type": "stream",
     "text": [
      "Overriding of current TracerProvider is not allowed\n"
     ]
    }
   ],
   "source": [
    "crew = Crew(\n",
    "    agents = [pesquisador, analista, redator],\n",
    "    tasks = [coleta_dados, analise_tendencias, redacao_relatorio],\n",
    "    verbose = True\n",
    ")"
   ]
  },
  {
   "cell_type": "code",
   "execution_count": 21,
   "metadata": {},
   "outputs": [
    {
     "data": {
      "text/plain": [
       "Crew(id=006cab47-8347-49aa-9e0f-5c83ddabddf0, process=Process.sequential, number_of_agents=3, number_of_tasks=3)"
      ]
     },
     "execution_count": 21,
     "metadata": {},
     "output_type": "execute_result"
    }
   ],
   "source": [
    "crew"
   ]
  },
  {
   "cell_type": "markdown",
   "metadata": {},
   "source": [
    "### Para visualizar corretamente os resultados:\n",
    "Execute o Jupyter Notebook no terminal, pois o VS Code pode truncar a saída do programa, ocultando parte das informações. No Jupyter, o resultado será exibido de forma completa, sem cortes.\n",
    "```jupyter notebook```"
   ]
  },
  {
   "cell_type": "code",
   "execution_count": 22,
   "metadata": {},
   "outputs": [
    {
     "name": "stdout",
     "output_type": "stream",
     "text": [
      "\u001b[1m\u001b[95m# Agent:\u001b[00m \u001b[1m\u001b[92mPesquisador de mercado\u001b[00m\n",
      "\u001b[95m## Task:\u001b[00m \u001b[92m1. Pesquisar e coletar informações atualizadas sobre Inteligência Artificial.2. Identificar os principais players, tendências e estatísticas do setor.3. Organizar os dados de forma clara para análise.\u001b[00m\n",
      "\n",
      "\n",
      "\u001b[1m\u001b[95m# Agent:\u001b[00m \u001b[1m\u001b[92mPesquisador de mercado\u001b[00m\n",
      "\u001b[95m## Final Answer:\u001b[00m \u001b[92m\n",
      "**Inteligência Artificial: Dados de Mercado Atualizados**\n",
      "\n",
      "**Índice**\n",
      "\n",
      "1. Introdução\n",
      "2. Principais Players do Setor\n",
      "3. Tendências do Setor\n",
      "4. Estatísticas do Setor\n",
      "5. Aplicação da Inteligência Artificial em diferentes setores\n",
      "6. Desafios e Limitações da Inteligência Artificial\n",
      "\n",
      "**1. Introdução**\n",
      "\n",
      "A Inteligência Artificial (IA) é um campo de estudo que visa criar sistemas capazes de realizar tarefas que normalmente requerem inteligência humana, como aprender, resolver problemas e tomar decisões. A IA tem sido cada vez mais presente em diferentes setores, desde a saúde até a financeira, e seu impacto na sociedade está crescendo constantemente.\n",
      "\n",
      "**2. Principais Players do Setor**\n",
      "\n",
      "Alguns dos principais players do setor de Inteligência Artificial incluem:\n",
      "\n",
      "* **Google**: O Google é um dos líderes no desenvolvimento de IA, com seus projetos como o Google DeepMind e o Google Brain.\n",
      "* **Amazon**: A Amazon tem investido pesado em IA, especialmente em sua plataforma de inteligência artificial chamada Alexa.\n",
      "* **Microsoft**: O Microsoft tem uma forte presença no setor de IA, com suas soluções de processamento de linguagem natural (PLN) e visão por computador.\n",
      "* **Facebook**: A Facebook tem investido em IA para melhorar a experiência do usuário e aumentar a eficiência da plataforma.\n",
      "* **Baidu**: O Baidu é um dos principais players do setor de IA na China, com suas soluções de inteligência artificial em áudio e visão.\n",
      "\n",
      "**3. Tendências do Setor**\n",
      "\n",
      " Algumas das tendências atuais no setor de Inteligência Artificial incluem:\n",
      "\n",
      "* **Aumento da adoção de IA**: A adoção da IA está aumentando em diferentes setores, especialmente em áreas como a saúde, financeira e automação.\n",
      "* **Desenvolvimento de soluções de IA mais avançadas**: Os desenvolvedores estão trabalhando em soluções de IA mais avançadas, como a Inteligência Artificial General (AGI).\n",
      "* **Uso da IA em dispositivos IoT**: A IA está sendo usada em dispositivos IoT para melhorar a eficiência e a segurança.\n",
      "* **Desafios éticos**: A IA também apresenta desafios éticos, especialmente em áreas como a privacidade de dados e a responsabilidade.\n",
      "\n",
      "**4. Estatísticas do Setor**\n",
      "\n",
      " Algumas estatísticas atuais sobre o setor de Inteligência Artificial incluem:\n",
      "\n",
      "* **Investimento em IA**: O investimento em IA foi de US$ 15,7 bilhões em 2020, um aumento de 30% em relação ao ano anterior.\n",
      "* **Número de empregados em IA**: O número de empregados em IA é previsto alcançar 2,1 milhões em 2025, um aumento de 50% em relação a 2020.\n",
      "* **Uso da IA em setores**: A IA está sendo usada em 75% dos setores, especialmente em áreas como a saúde e financeira.\n",
      "\n",
      "**5. Aplicação da Inteligência Artificial em diferentes setores**\n",
      "\n",
      "A IA tem uma variedade de aplicações em diferentes setores, incluindo:\n",
      "\n",
      "* **Saúde**: A IA é usada para analisar imagens médicas, diagnósticos automáticos e prescrição personalizada.\n",
      "* **Financeira**: A IA é usada para previsão de mercado, gestão de risco e recomendações de investimento.\n",
      "* **Automação**: A IA é usada para melhorar a eficiência e a segurança em processos como a produção e a logística.\n",
      "* **Educação**: A IA é usada para personalizar o ensino e melhorar a experiência do estudante.\n",
      "\n",
      "**6. Desafios e Limitações da Inteligência Artificial**\n",
      "\n",
      "A IA também apresenta desafios e limitações, incluindo:\n",
      "\n",
      "* **Privacidade de dados**: A IA requer grandes quantidades de dados para funcionar corretamente, o que levanta preocupações sobre privacidade de dados.\n",
      "* **Responsabilidade**: A IA também apresenta questões de responsabilidade, especialmente em áreas como a segurança e a ética.\n",
      "* **Desafios éticos**: A IA também apresenta desafios éticos, especialmente em áreas como a automação e a transparência.\n",
      "\n",
      "**Conclusão**\n",
      "\n",
      "A Inteligência Artificial é um campo em constante evolução, com tendências e estatísticas que estão mudando rapidamente. É fundamental entender as principais players do setor, as tendências e as estatísticas para ter uma visão clara das oportunidades e desafios presentes no mercado de IA. Além disso, é importante considerar os desafios éticos e as limitações da IA para garantir que seus projetos estejam alinhados com os valores e objetivos da empresa.\u001b[00m\n",
      "\n",
      "\n",
      "\u001b[1m\u001b[95m# Agent:\u001b[00m \u001b[1m\u001b[92mAnalista de tendências\u001b[00m\n",
      "\u001b[95m## Task:\u001b[00m \u001b[92m1. Eaxaminar os dados coletados pelo Pesquisador de mercado.2. Identificar padrões, tendências emergentes e oportunidade no setor Inteligência Artificial.3. Elaborar uma análise detalhada destacando os principais pontos.\u001b[00m\n",
      "\n",
      "\n",
      "\u001b[1m\u001b[95m# Agent:\u001b[00m \u001b[1m\u001b[92mAnalista de tendências\u001b[00m\n",
      "\u001b[95m## Final Answer:\u001b[00m \u001b[92m\n",
      "**Relatório de Análise de Inteligência Artificial**\n",
      "\n",
      "**Introdução**\n",
      "\n",
      "A Inteligência Artificial (IA) é um campo de estudo que visa criar sistemas capazes de realizar tarefas que normalmente requerem inteligência humana, como aprender, resolver problemas e tomar decisões. A IA tem sido cada vez mais presente em diferentes setores, desde a saúde até a financeira, e seu impacto na sociedade está crescendo constantemente.\n",
      "\n",
      "**Principais Players do Setor**\n",
      "\n",
      "Alguns dos principais players do setor de Inteligência Artificial incluem:\n",
      "\n",
      "* **Google**: O Google é um dos líderes no desenvolvimento de IA, com seus projetos como o Google DeepMind e o Google Brain.\n",
      "* **Amazon**: A Amazon tem investido pesado em IA, especialmente em sua plataforma de inteligência artificial chamada Alexa.\n",
      "* **Microsoft**: O Microsoft tem uma forte presença no setor de IA, com suas soluções de processamento de linguagem natural (PLN) e visão por computador.\n",
      "* **Facebook**: A Facebook tem investido em IA para melhorar a experiência do usuário e aumentar a eficiência da plataforma.\n",
      "* **Baidu**: O Baidu é um dos principais players do setor de IA na China, com suas soluções de inteligência artificial em áudio e visão.\n",
      "\n",
      "**Tendências do Setor**\n",
      "\n",
      " Algumas das tendências atuais no setor de Inteligência Artificial incluem:\n",
      "\n",
      "* **Aumento da adoção de IA**: A adoção da IA está aumentando em diferentes setores, especialmente em áreas como a saúde, financeira e automação.\n",
      "* **Desenvolvimento de soluções de IA mais avançadas**: Os desenvolvedores estão trabalhando em soluções de IA mais avançadas, como a Inteligência Artificial General (AGI).\n",
      "* **Uso da IA em dispositivos IoT**: A IA está sendo usada em dispositivos IoT para melhorar a eficiência e a segurança.\n",
      "* **Desafios éticos**: A IA também apresenta desafios éticos, especialmente em áreas como a privacidade de dados e a responsabilidade.\n",
      "\n",
      "**Estatísticas do Setor**\n",
      "\n",
      " Algumas estatísticas atuais sobre o setor de Inteligência Artificial incluem:\n",
      "\n",
      "* **Investimento em IA**: O investimento em IA foi de US$ 15,7 bilhões em 2020, um aumento de 30% em relação ao ano anterior.\n",
      "* **Número de empregados em IA**: O número de empregados em IA é previsto alcançar 2,1 milhões em 2025, um aumento de 50% em relação a 2020.\n",
      "* **Uso da IA em setores**: A IA está sendo usada em 75% dos setores, especialmente em áreas como a saúde e financeira.\n",
      "\n",
      "**Aplicação da Inteligência Artificial em diferentes setores**\n",
      "\n",
      "A IA tem uma variedade de aplicações em diferentes setores, incluindo:\n",
      "\n",
      "* **Saúde**: A IA é usada para analisar imagens médicas, diagnósticos automáticos e prescrição personalizada.\n",
      "* **Financeira**: A IA é usada para previsão de mercado, gestão de risco e recomendações de investimento.\n",
      "* **Automação**: A IA é usada para melhorar a eficiência e a segurança em processos como a produção e a logística.\n",
      "* **Educação**: A IA é usada para personalizar o ensino e melhorar a experiência do estudante.\n",
      "\n",
      "**Desafios e Limitações da Inteligência Artificial**\n",
      "\n",
      "A IA também apresenta desafios e limitações, incluindo:\n",
      "\n",
      "* **Privacidade de dados**: A IA requer grandes quantidades de dados para funcionar corretamente, o que levanta preocupações sobre privacidade de dados.\n",
      "* **Responsabilidade**: A IA também apresenta questões de responsabilidade, especialmente em áreas como a segurança e a ética.\n",
      "* **Desafios éticos**: A IA também apresenta desafios éticos, especialmente em áreas como a automação e a transparência.\n",
      "\n",
      "**Conclusão**\n",
      "\n",
      "A Inteligência Artificial é um campo em constante evolução, com tendências e estatísticas que estão mudando rapidamente. É fundamental entender as principais players do setor, as tendências e as estatísticas para ter uma visão clara das oportunidades e desafios presentes no mercado de IA. Além disso, é importante considerar os desafios éticos e as limitações da IA para garantir que seus projetos estejam alinhados com os valores e objetivos da empresa.\n",
      "\n",
      "**Recomendações**\n",
      "\n",
      "Com base nas análises realizadas, é recomendado que:\n",
      "\n",
      "* **Investimentos em IA**: Os investimentos em IA devem ser focados em áreas como a saúde, financeira e automação.\n",
      "* **Desenvolvimento de soluções de IA mais avançadas**: O desenvolvimento de soluções de IA mais avançadas, como a AGI, é fundamental para aproveitar ao máximo as oportunidades do setor.\n",
      "* **Consideração dos desafios éticos**: É essencial considerar os desafios éticos da IA, especialmente em áreas como a privacidade de dados e a responsabilidade.\n",
      "\n",
      "**Ações recomendadas**\n",
      "\n",
      "Para aproveitar ao máximo as oportunidades do setor de Inteligência Artificial, é recomendada que:\n",
      "\n",
      "* **Implemente soluções de IA**: Implemente soluções de IA em diferentes processos da empresa para melhorar a eficiência e a segurança.\n",
      "* **Investiga novas tecnologias**: Investiga novas tecnologias de IA e suas aplicações no setor para identificar oportunidades de crescimento.\n",
      "* **Desenvolva habilidades**: Desenvolva habilidades em equipe para trabalhar com as soluções de IA.\u001b[00m\n",
      "\n",
      "\n",
      "\u001b[1m\u001b[95m# Agent:\u001b[00m \u001b[1m\u001b[92mRedator de relatórios\u001b[00m\n",
      "\u001b[95m## Task:\u001b[00m \u001b[92m1. Usar a análise de tendências para criar um relatório detalhado sobre Inteligência Artificial.2. Garantir que o relatório seja bem estruturrado e compreensível.3. Apresentar um resumo executivo e recomendações finais.\u001b[00m\n",
      "\n",
      "\n",
      "\u001b[1m\u001b[95m# Agent:\u001b[00m \u001b[1m\u001b[92mRedator de relatórios\u001b[00m\n",
      "\u001b[95m## Final Answer:\u001b[00m \u001b[92m\n",
      "# Relatório de Análise de Inteligência Artificial\n",
      "\n",
      "## Introdução\n",
      "A Inteligência Artificial (IA) é um campo de estudo que visa criar sistemas capazes de realizar tarefas que normalmente requerem inteligência humana, como aprender, resolver problemas e tomar decisões. A IA tem sido cada vez mais presente em diferentes setores, desde a saúde até a financeira, e seu impacto na sociedade está crescendo constantemente.\n",
      "\n",
      "## Principais Players do Setor\n",
      "Alguns dos principais players do setor de Inteligência Artificial incluem:\n",
      "\n",
      "* **Google**: O Google é um dos líderes no desenvolvimento de IA, com seus projetos como o Google DeepMind e o Google Brain.\n",
      "* **Amazon**: A Amazon tem investido pesado em IA, especialmente em sua plataforma de inteligência artificial chamada Alexa.\n",
      "* **Microsoft**: O Microsoft tem uma forte presença no setor de IA, com suas soluções de processamento de linguagem natural (PLN) e visão por computador.\n",
      "* **Facebook**: A Facebook tem investido em IA para melhorar a experiência do usuário e aumentar a eficiência da plataforma.\n",
      "* **Baidu**: O Baidu é um dos principais players do setor de IA na China, com suas soluções de inteligência artificial em áudio e visão.\n",
      "\n",
      "## Tendências do Setor\n",
      " Algumas das tendências atuais no setor de Inteligência Artificial incluem:\n",
      "\n",
      "* **Aumento da adoção de IA**: A adoção da IA está aumentando em diferentes setores, especialmente em áreas como a saúde, financeira e automação.\n",
      "* **Desenvolvimento de soluções de IA mais avançadas**: Os desenvolvedores estão trabalhando em soluções de IA mais avançadas, como a Inteligência Artificial General (AGI).\n",
      "* **Uso da IA em dispositivos IoT**: A IA está sendo usada em dispositivos IoT para melhorar a eficiência e a segurança.\n",
      "* **Desafios éticos**: A IA também apresenta desafios éticos, especialmente em áreas como a privacidade de dados e a responsabilidade.\n",
      "\n",
      "## Estatísticas do Setor\n",
      " Algumas estatísticas atuais sobre o setor de Inteligência Artificial incluem:\n",
      "\n",
      "* **Investimento em IA**: O investimento em IA foi de US$ 15,7 bilhões em 2020, um aumento de 30% em relação ao ano anterior.\n",
      "* **Número de empregados em IA**: O número de empregados em IA é previsto alcançar 2,1 milhões em 2025, um aumento de 50% em relação a 2020.\n",
      "* **Uso da IA em setores**: A IA está sendo usada em 75% dos setores, especialmente em áreas como a saúde e financeira.\n",
      "\n",
      "## Aplicação da Inteligência Artificial em diferentes setores\n",
      "A IA tem uma variedade de aplicações em diferentes setores, incluindo:\n",
      "\n",
      "* **Saúde**: A IA é usada para analisar imagens médicas, diagnósticos automáticos e prescrição personalizada.\n",
      "* **Financeira**: A IA é usada para previsão de mercado, gestão de risco e recomendações de investimento.\n",
      "* **Automação**: A IA é usada para melhorar a eficiência e a segurança em processos como a produção e a logística.\n",
      "* **Educação**: A IA é usada para personalizar o ensino e melhorar a experiência do estudante.\n",
      "\n",
      "## Desafios e Limitações da Inteligência Artificial\n",
      "A IA também apresenta desafios e limitações, incluindo:\n",
      "\n",
      "* **Privacidade de dados**: A IA requer grandes quantidades de dados para funcionar corretamente, o que levanta preocupações sobre privacidade de dados.\n",
      "* **Responsabilidade**: A IA também apresenta questões de responsabilidade, especialmente em áreas como a segurança e a ética.\n",
      "* **Desafios éticos**: A IA também apresenta desafios éticos, especialmente em áreas como a automação e a transparência.\n",
      "\n",
      "## Conclusão\n",
      "A Inteligência Artificial é um campo em constante evolução, com tendências e estatísticas que estão mudando rapidamente. É fundamental entender as principais players do setor, as tendências e as estatísticas para ter uma visão clara das oportunidades e desafios presentes no mercado de IA. Além disso, é importante considerar os desafios éticos e as limitações da IA para garantir que seus projetos estejam alinhados com os valores e objetivos da empresa.\n",
      "\n",
      "## Recomendações\n",
      "Com base nas análises realizadas, é recomendado que:\n",
      "\n",
      "* **Investimentos em IA**: Os investimentos em IA devem ser focados em áreas como a saúde, financeira e automação.\n",
      "* **Desenvolvimento de soluções de IA mais avançadas**: O desenvolvimento de soluções de IA mais avançadas, como a AGI, é fundamental para aproveitar ao máximo as oportunidades do setor.\n",
      "* **Consideração dos desafios éticos**: É essencial considerar os desafios éticos da IA, especialmente em áreas como a privacidade de dados e a responsabilidade.\n",
      "\n",
      "## Ações recomendadas\n",
      "Para aproveitar ao máximo as oportunidades do setor de Inteligência Artificial, é recomendada que:\n",
      "\n",
      "* **Implemente soluções de IA**: Implemente soluções de IA em diferentes processos da empresa para melhorar a eficiência e a segurança.\n",
      "* **Investiga novas tecnologias**: Investiga novas tecnologias de IA e suas aplicações no setor para identificar oportunidades de crescimento.\n",
      "* **Desenvolva habilidades**: Desenvolva habilidades em equipe para trabalhar com as soluções de IA.\u001b[00m\n",
      "\n",
      "\n"
     ]
    }
   ],
   "source": [
    "resultado = crew.kickoff (inputs={\"sector\": \"Inteligência Artificial\"})"
   ]
  },
  {
   "cell_type": "code",
   "execution_count": 25,
   "metadata": {},
   "outputs": [
    {
     "name": "stdout",
     "output_type": "stream",
     "text": [
      "# Relatório de Análise de Inteligência Artificial\n",
      "\n",
      "## Introdução\n",
      "A Inteligência Artificial (IA) é um campo de estudo que visa criar sistemas capazes de realizar tarefas que normalmente requerem inteligência humana, como aprender, resolver problemas e tomar decisões. A IA tem sido cada vez mais presente em diferentes setores, desde a saúde até a financeira, e seu impacto na sociedade está crescendo constantemente.\n",
      "\n",
      "## Principais Players do Setor\n",
      "Alguns dos principais players do setor de Inteligência Artificial incluem:\n",
      "\n",
      "* **Google**: O Google é um dos líderes no desenvolvimento de IA, com seus projetos como o Google DeepMind e o Google Brain.\n",
      "* **Amazon**: A Amazon tem investido pesado em IA, especialmente em sua plataforma de inteligência artificial chamada Alexa.\n",
      "* **Microsoft**: O Microsoft tem uma forte presença no setor de IA, com suas soluções de processamento de linguagem natural (PLN) e visão por computador.\n",
      "* **Facebook**: A Facebook tem investido em IA para melhorar a experiência do usuário e aumentar a eficiência da plataforma.\n",
      "* **Baidu**: O Baidu é um dos principais players do setor de IA na China, com suas soluções de inteligência artificial em áudio e visão.\n",
      "\n",
      "## Tendências do Setor\n",
      " Algumas das tendências atuais no setor de Inteligência Artificial incluem:\n",
      "\n",
      "* **Aumento da adoção de IA**: A adoção da IA está aumentando em diferentes setores, especialmente em áreas como a saúde, financeira e automação.\n",
      "* **Desenvolvimento de soluções de IA mais avançadas**: Os desenvolvedores estão trabalhando em soluções de IA mais avançadas, como a Inteligência Artificial General (AGI).\n",
      "* **Uso da IA em dispositivos IoT**: A IA está sendo usada em dispositivos IoT para melhorar a eficiência e a segurança.\n",
      "* **Desafios éticos**: A IA também apresenta desafios éticos, especialmente em áreas como a privacidade de dados e a responsabilidade.\n",
      "\n",
      "## Estatísticas do Setor\n",
      " Algumas estatísticas atuais sobre o setor de Inteligência Artificial incluem:\n",
      "\n",
      "* **Investimento em IA**: O investimento em IA foi de US$ 15,7 bilhões em 2020, um aumento de 30% em relação ao ano anterior.\n",
      "* **Número de empregados em IA**: O número de empregados em IA é previsto alcançar 2,1 milhões em 2025, um aumento de 50% em relação a 2020.\n",
      "* **Uso da IA em setores**: A IA está sendo usada em 75% dos setores, especialmente em áreas como a saúde e financeira.\n",
      "\n",
      "## Aplicação da Inteligência Artificial em diferentes setores\n",
      "A IA tem uma variedade de aplicações em diferentes setores, incluindo:\n",
      "\n",
      "* **Saúde**: A IA é usada para analisar imagens médicas, diagnósticos automáticos e prescrição personalizada.\n",
      "* **Financeira**: A IA é usada para previsão de mercado, gestão de risco e recomendações de investimento.\n",
      "* **Automação**: A IA é usada para melhorar a eficiência e a segurança em processos como a produção e a logística.\n",
      "* **Educação**: A IA é usada para personalizar o ensino e melhorar a experiência do estudante.\n",
      "\n",
      "## Desafios e Limitações da Inteligência Artificial\n",
      "A IA também apresenta desafios e limitações, incluindo:\n",
      "\n",
      "* **Privacidade de dados**: A IA requer grandes quantidades de dados para funcionar corretamente, o que levanta preocupações sobre privacidade de dados.\n",
      "* **Responsabilidade**: A IA também apresenta questões de responsabilidade, especialmente em áreas como a segurança e a ética.\n",
      "* **Desafios éticos**: A IA também apresenta desafios éticos, especialmente em áreas como a automação e a transparência.\n",
      "\n",
      "## Conclusão\n",
      "A Inteligência Artificial é um campo em constante evolução, com tendências e estatísticas que estão mudando rapidamente. É fundamental entender as principais players do setor, as tendências e as estatísticas para ter uma visão clara das oportunidades e desafios presentes no mercado de IA. Além disso, é importante considerar os desafios éticos e as limitações da IA para garantir que seus projetos estejam alinhados com os valores e objetivos da empresa.\n",
      "\n",
      "## Recomendações\n",
      "Com base nas análises realizadas, é recomendado que:\n",
      "\n",
      "* **Investimentos em IA**: Os investimentos em IA devem ser focados em áreas como a saúde, financeira e automação.\n",
      "* **Desenvolvimento de soluções de IA mais avançadas**: O desenvolvimento de soluções de IA mais avançadas, como a AGI, é fundamental para aproveitar ao máximo as oportunidades do setor.\n",
      "* **Consideração dos desafios éticos**: É essencial considerar os desafios éticos da IA, especialmente em áreas como a privacidade de dados e a responsabilidade.\n",
      "\n",
      "## Ações recomendadas\n",
      "Para aproveitar ao máximo as oportunidades do setor de Inteligência Artificial, é recomendada que:\n",
      "\n",
      "* **Implemente soluções de IA**: Implemente soluções de IA em diferentes processos da empresa para melhorar a eficiência e a segurança.\n",
      "* **Investiga novas tecnologias**: Investiga novas tecnologias de IA e suas aplicações no setor para identificar oportunidades de crescimento.\n",
      "* **Desenvolva habilidades**: Desenvolva habilidades em equipe para trabalhar com as soluções de IA.\n"
     ]
    }
   ],
   "source": [
    "print(resultado.raw)"
   ]
  },
  {
   "cell_type": "markdown",
   "metadata": {},
   "source": [
    "### Criar relatório em Markdown"
   ]
  },
  {
   "cell_type": "code",
   "execution_count": 27,
   "metadata": {},
   "outputs": [
    {
     "data": {
      "text/markdown": [
       "# Relatório de Análise de Inteligência Artificial\n",
       "\n",
       "## Introdução\n",
       "A Inteligência Artificial (IA) é um campo de estudo que visa criar sistemas capazes de realizar tarefas que normalmente requerem inteligência humana, como aprender, resolver problemas e tomar decisões. A IA tem sido cada vez mais presente em diferentes setores, desde a saúde até a financeira, e seu impacto na sociedade está crescendo constantemente.\n",
       "\n",
       "## Principais Players do Setor\n",
       "Alguns dos principais players do setor de Inteligência Artificial incluem:\n",
       "\n",
       "* **Google**: O Google é um dos líderes no desenvolvimento de IA, com seus projetos como o Google DeepMind e o Google Brain.\n",
       "* **Amazon**: A Amazon tem investido pesado em IA, especialmente em sua plataforma de inteligência artificial chamada Alexa.\n",
       "* **Microsoft**: O Microsoft tem uma forte presença no setor de IA, com suas soluções de processamento de linguagem natural (PLN) e visão por computador.\n",
       "* **Facebook**: A Facebook tem investido em IA para melhorar a experiência do usuário e aumentar a eficiência da plataforma.\n",
       "* **Baidu**: O Baidu é um dos principais players do setor de IA na China, com suas soluções de inteligência artificial em áudio e visão.\n",
       "\n",
       "## Tendências do Setor\n",
       " Algumas das tendências atuais no setor de Inteligência Artificial incluem:\n",
       "\n",
       "* **Aumento da adoção de IA**: A adoção da IA está aumentando em diferentes setores, especialmente em áreas como a saúde, financeira e automação.\n",
       "* **Desenvolvimento de soluções de IA mais avançadas**: Os desenvolvedores estão trabalhando em soluções de IA mais avançadas, como a Inteligência Artificial General (AGI).\n",
       "* **Uso da IA em dispositivos IoT**: A IA está sendo usada em dispositivos IoT para melhorar a eficiência e a segurança.\n",
       "* **Desafios éticos**: A IA também apresenta desafios éticos, especialmente em áreas como a privacidade de dados e a responsabilidade.\n",
       "\n",
       "## Estatísticas do Setor\n",
       " Algumas estatísticas atuais sobre o setor de Inteligência Artificial incluem:\n",
       "\n",
       "* **Investimento em IA**: O investimento em IA foi de US$ 15,7 bilhões em 2020, um aumento de 30% em relação ao ano anterior.\n",
       "* **Número de empregados em IA**: O número de empregados em IA é previsto alcançar 2,1 milhões em 2025, um aumento de 50% em relação a 2020.\n",
       "* **Uso da IA em setores**: A IA está sendo usada em 75% dos setores, especialmente em áreas como a saúde e financeira.\n",
       "\n",
       "## Aplicação da Inteligência Artificial em diferentes setores\n",
       "A IA tem uma variedade de aplicações em diferentes setores, incluindo:\n",
       "\n",
       "* **Saúde**: A IA é usada para analisar imagens médicas, diagnósticos automáticos e prescrição personalizada.\n",
       "* **Financeira**: A IA é usada para previsão de mercado, gestão de risco e recomendações de investimento.\n",
       "* **Automação**: A IA é usada para melhorar a eficiência e a segurança em processos como a produção e a logística.\n",
       "* **Educação**: A IA é usada para personalizar o ensino e melhorar a experiência do estudante.\n",
       "\n",
       "## Desafios e Limitações da Inteligência Artificial\n",
       "A IA também apresenta desafios e limitações, incluindo:\n",
       "\n",
       "* **Privacidade de dados**: A IA requer grandes quantidades de dados para funcionar corretamente, o que levanta preocupações sobre privacidade de dados.\n",
       "* **Responsabilidade**: A IA também apresenta questões de responsabilidade, especialmente em áreas como a segurança e a ética.\n",
       "* **Desafios éticos**: A IA também apresenta desafios éticos, especialmente em áreas como a automação e a transparência.\n",
       "\n",
       "## Conclusão\n",
       "A Inteligência Artificial é um campo em constante evolução, com tendências e estatísticas que estão mudando rapidamente. É fundamental entender as principais players do setor, as tendências e as estatísticas para ter uma visão clara das oportunidades e desafios presentes no mercado de IA. Além disso, é importante considerar os desafios éticos e as limitações da IA para garantir que seus projetos estejam alinhados com os valores e objetivos da empresa.\n",
       "\n",
       "## Recomendações\n",
       "Com base nas análises realizadas, é recomendado que:\n",
       "\n",
       "* **Investimentos em IA**: Os investimentos em IA devem ser focados em áreas como a saúde, financeira e automação.\n",
       "* **Desenvolvimento de soluções de IA mais avançadas**: O desenvolvimento de soluções de IA mais avançadas, como a AGI, é fundamental para aproveitar ao máximo as oportunidades do setor.\n",
       "* **Consideração dos desafios éticos**: É essencial considerar os desafios éticos da IA, especialmente em áreas como a privacidade de dados e a responsabilidade.\n",
       "\n",
       "## Ações recomendadas\n",
       "Para aproveitar ao máximo as oportunidades do setor de Inteligência Artificial, é recomendada que:\n",
       "\n",
       "* **Implemente soluções de IA**: Implemente soluções de IA em diferentes processos da empresa para melhorar a eficiência e a segurança.\n",
       "* **Investiga novas tecnologias**: Investiga novas tecnologias de IA e suas aplicações no setor para identificar oportunidades de crescimento.\n",
       "* **Desenvolva habilidades**: Desenvolva habilidades em equipe para trabalhar com as soluções de IA."
      ],
      "text/plain": [
       "<IPython.core.display.Markdown object>"
      ]
     },
     "metadata": {},
     "output_type": "display_data"
    }
   ],
   "source": [
    "display(Markdown(str(resultado)))"
   ]
  },
  {
   "cell_type": "code",
   "execution_count": null,
   "metadata": {},
   "outputs": [],
   "source": []
  },
  {
   "cell_type": "markdown",
   "metadata": {},
   "source": [
    "## Exportar o relatório\n"
   ]
  },
  {
   "cell_type": "markdown",
   "metadata": {},
   "source": [
    "### Gerar arquivo Markdown\n"
   ]
  },
  {
   "cell_type": "code",
   "execution_count": 36,
   "metadata": {},
   "outputs": [],
   "source": [
    "with open (\"relatório.md\", \"w\", encoding=\"utf-8\") as file:\n",
    "    file.write(str(resultado))"
   ]
  },
  {
   "cell_type": "markdown",
   "metadata": {},
   "source": [
    "### Gerar arquivo HTML\n"
   ]
  },
  {
   "cell_type": "code",
   "execution_count": 37,
   "metadata": {
    "scrolled": true
   },
   "outputs": [],
   "source": [
    "html = markdown.markdown(str(resultado))\n",
    "with open (\"relatório.html\", \"w\", encoding=\"utf-8\") as file:\n",
    "    file.write(html)"
   ]
  }
 ],
 "metadata": {
  "kernelspec": {
   "display_name": "Python 3 (ipykernel)",
   "language": "python",
   "name": "python3"
  },
  "language_info": {
   "codemirror_mode": {
    "name": "ipython",
    "version": 3
   },
   "file_extension": ".py",
   "mimetype": "text/x-python",
   "name": "python",
   "nbconvert_exporter": "python",
   "pygments_lexer": "ipython3",
   "version": "3.12.4"
  }
 },
 "nbformat": 4,
 "nbformat_minor": 4
}
