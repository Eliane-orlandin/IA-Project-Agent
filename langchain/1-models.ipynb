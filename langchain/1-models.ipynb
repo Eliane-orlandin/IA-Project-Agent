{
 "cells": [
  {
   "cell_type": "code",
   "execution_count": 4,
   "id": "f424d18a",
   "metadata": {},
   "outputs": [
    {
     "data": {
      "text/plain": [
       "True"
      ]
     },
     "execution_count": 4,
     "metadata": {},
     "output_type": "execute_result"
    }
   ],
   "source": [
    "from dotenv import load_dotenv\n",
    "import os\n",
    "from langchain import OpenAI\n",
    "load_dotenv() "
   ]
  },
  {
   "cell_type": "code",
   "execution_count": 5,
   "id": "e32a57bf",
   "metadata": {},
   "outputs": [],
   "source": [
    "llm = OpenAI(model=\"gpt-3.5-turbo-instruct\")\n"
   ]
  },
  {
   "cell_type": "code",
   "execution_count": 6,
   "id": "17a49637",
   "metadata": {},
   "outputs": [
    {
     "data": {
      "text/plain": [
       "'\\n\\nHá alguns anos, em uma empresa de tecnologia, um grupo de cientistas de dados estava trabalhando em um projeto de aprendizado de máquina para melhorar o sistema de recomendação de produtos para os clientes. O objetivo era criar um algoritmo de recomendação mais preciso, que aumentasse a satisfação do cliente e, consequentemente, as vendas.\\n\\nNo começo, o time estava muito confiante, pois tinham estudado sobre os diferentes modelos de aprendizado de máquina e estavam ansiosos para aplicá-los na prática. Eles tinham uma grande quantidade de dados históricos de compras dos clientes e estavam prontos para treinar o modelo.\\n\\nPorém, depois de várias tentativas, o algoritmo não estava apresentando os resultados esperados. As recomendações geradas pelo modelo não estavam correspondendo às preferências dos clientes e, em alguns casos, até mesmo estavam sugerindo produtos que os clientes já haviam comprado.\\n\\nO time ficou desapontado, pois esperava que o aprendizado de máquina pudesse resolver facilmente esse problema. Eles também começaram a se'"
      ]
     },
     "execution_count": 6,
     "metadata": {},
     "output_type": "execute_result"
    }
   ],
   "source": [
    "prompt = \"Conte uma história de aprendizado de máquina\"\n",
    "llm.invoke(prompt)"
   ]
  },
  {
   "cell_type": "code",
   "execution_count": 7,
   "id": "94070ce1",
   "metadata": {},
   "outputs": [
    {
     "name": "stdout",
     "output_type": "stream",
     "text": [
      "\n",
      "\n",
      "Era uma vez um jovem cientista da computação chamado Lucas, que estava sempre em busca de novos desafios e aprendizados na área de tecnologia. Ele sempre se interessou pela área de inteligência artificial e ficava fascinado com as possibilidades de aplicação do aprendizado de máquina em diversas áreas, como saúde, finanças e automação.\n",
      "\n",
      "Certo dia, Lucas recebeu uma proposta de emprego em uma empresa de tecnologia renomada, que estava desenvolvendo um projeto de análise de dados para prever o comportamento do mercado de ações. Ele ficou extremamente animado com a oportunidade de trabalhar com aprendizado de máquina em um projeto tão importante.\n",
      "\n",
      "No início, Lucas ficou um pouco intimidado com a complexidade do projeto e com a quantidade de dados que precisava ser processada. Ele sabia que precisaria aplicar algoritmos de aprendizado de máquina para extrair informações relevantes e treinar um modelo que pudesse fazer previsões precisas.\n",
      "\n",
      "Com muito estudo e dedicação, Lucas começou a entender melhor os conceitos de aprendizado de máquina e a utilizar ferramentas e linguagens de"
     ]
    }
   ],
   "source": [
    "prompt = \"Conte uma história de aprendizado de máquina\"\n",
    "for trecho in llm.stream(prompt):\n",
    "    print(trecho, end=\"\")"
   ]
  },
  {
   "cell_type": "code",
   "execution_count": 10,
   "id": "32e7397d",
   "metadata": {},
   "outputs": [
    {
     "data": {
      "text/plain": [
       "['\\n\\nMemória RAM (Random Access Memory) é um tipo de memória volátil utilizada em computadores e dispositivos eletrônicos para armazenar dados temporariamente enquanto são processados. É responsável por armazenar informações do sistema operacional, aplicativos e arquivos em uso, permitindo que o processador acesse esses dados de forma rápida e eficiente. A memória RAM é um componente essencial para o bom funcionamento de um dispositivo, pois quanto maior a quantidade de memória RAM disponível, mais tarefas podem ser executadas simultaneamente e com maior velocidade.',\n",
       " '\\n\\nUm computador é uma máquina eletrônica capaz de processar e armazenar informações de forma automática. Ele é composto por vários componentes físicos, como processador, memória, armazenamento, placa-mãe, entre outros, e pode ser dividido em duas partes principais: hardware e software.\\n\\nHardware: é a parte física do computador, ou seja, todos os componentes que podem ser tocados, como o gabinete, monitor, teclado, mouse, placa de vídeo, entre outros. Esses componentes trabalham em conjunto para executar as tarefas do computador.\\n\\nSoftware: é a parte lógica do computador, ou seja, os programas e aplicativos que são instalados para realizar diferentes funções, como editar textos, navegar na internet, reproduzir vídeos, entre outras atividades. O software é responsável por controlar o hardware e permitir a interação do usuário com o computador.\\n\\nO funcionamento do computador se baseia em três processos principais: entrada de dados, processamento e saída de dados.\\n\\n1. Entrada de dados: é o processo de inserir informações no computador',\n",
       " '\\nUm disco rígido, também conhecido como HD (Hard Disk), é um dispositivo de armazenamento de dados magnéticos utilizado em computadores e outros dispositivos eletrônicos. Ele é responsável por armazenar permanentemente os dados do usuário, como arquivos, programas e sistema operacional, permitindo o acesso e a utilização dessas informações sempre que necessário.\\n\\nO disco rígido é composto por um conjunto de discos magnéticos empilhados, que giram em alta velocidade dentro de uma caixa metálica lacrada. Esses discos são revestidos com um material magnético e possuem trilhas e setores, onde os dados são armazenados por meio de gravação magnética.\\n\\nAlém dos discos, o HD também possui uma série de componentes, como cabeças de leitura e gravação, motor de rotação, controladores e circuitos eletrônicos, responsáveis por gerenciar e controlar o acesso aos dados armazenados.\\n\\nO tamanho e capacidade de armazenamento de um disco rígido podem variar bastante, desde alguns gigabytes até vários terabytes. Ele é um dos princip',\n",
       " '\\n\\nUm processador é um chip ou unidade de processamento central (CPU) que é responsável por executar as operações e instruções de um computador. Ele é responsável por processar dados, executar cálculos e controlar as operações básicas do sistema, como gerenciar a memória e a comunicação com outros dispositivos. O processador é considerado o \"cérebro\" do computador e sua velocidade e eficiência afetam diretamente o desempenho do sistema. Existem diferentes tipos de processadores, como os processadores Intel e AMD, e eles evoluíram ao longo dos anos para se tornarem mais rápidos e poderosos para atender às demandas cada vez maiores dos usuários de computadores. ']"
      ]
     },
     "execution_count": 10,
     "metadata": {},
     "output_type": "execute_result"
    }
   ],
   "source": [
    "perguntas = [\n",
    "    \"O que é memória RAM?\",\n",
    "    \"Como funciona um computador?\",\n",
    "    \"O que é um disco rígido?\",\n",
    "    \"O que é um processador?\"\n",
    "]\n",
    "llm.batch(perguntas)"
   ]
  },
  {
   "cell_type": "markdown",
   "id": "f0630fe2",
   "metadata": {},
   "source": [
    "### ChatModels\n"
   ]
  },
  {
   "cell_type": "code",
   "execution_count": 11,
   "id": "74a597b2",
   "metadata": {},
   "outputs": [],
   "source": [
    "from langchain_openai import ChatOpenAI\n",
    "chat = ChatOpenAI(model=\"gpt-3.5-turbo-0125\")"
   ]
  },
  {
   "cell_type": "code",
   "execution_count": 12,
   "id": "ff18acc6",
   "metadata": {},
   "outputs": [],
   "source": [
    "from langchain_core.messages import HumanMessage, SystemMessage\n",
    "\n",
    "mensagens = [\n",
    "    SystemMessage(content=\"Você é um assistente que responde com irônia\"),\n",
    "    HumanMessage(content=\"O que é memória RAM?\"),\n",
    "]\n",
    "\n",
    "resposta = chat.invoke(mensagens)"
   ]
  },
  {
   "cell_type": "code",
   "execution_count": 14,
   "id": "6db75892",
   "metadata": {},
   "outputs": [
    {
     "data": {
      "text/plain": [
       "'Ah, a memória RAM é basicamente uma área de armazenamento temporário que sua máquina usa para se lembrar de todas as vezes em que você esqueceu de salvar seu trabalho antes de o computador travar. Muito útil, não é mesmo?'"
      ]
     },
     "execution_count": 14,
     "metadata": {},
     "output_type": "execute_result"
    }
   ],
   "source": [
    "resposta.content"
   ]
  },
  {
   "cell_type": "code",
   "execution_count": 15,
   "id": "8ab8c782",
   "metadata": {},
   "outputs": [
    {
     "data": {
      "text/plain": [
       "{'token_usage': {'completion_tokens': 58,\n",
       "  'prompt_tokens': 30,\n",
       "  'total_tokens': 88,\n",
       "  'completion_tokens_details': {'accepted_prediction_tokens': 0,\n",
       "   'audio_tokens': 0,\n",
       "   'reasoning_tokens': 0,\n",
       "   'rejected_prediction_tokens': 0},\n",
       "  'prompt_tokens_details': {'audio_tokens': 0, 'cached_tokens': 0}},\n",
       " 'model_name': 'gpt-3.5-turbo-0125',\n",
       " 'system_fingerprint': None,\n",
       " 'finish_reason': 'stop',\n",
       " 'logprobs': None}"
      ]
     },
     "execution_count": 15,
     "metadata": {},
     "output_type": "execute_result"
    }
   ],
   "source": [
    "resposta.response_metadata"
   ]
  },
  {
   "cell_type": "markdown",
   "id": "cdae83d7",
   "metadata": {},
   "source": [
    "### Prompt Few Shot"
   ]
  },
  {
   "cell_type": "code",
   "execution_count": 16,
   "id": "eb2a0f2f",
   "metadata": {},
   "outputs": [],
   "source": [
    "from langchain_openai import ChatOpenAI\n",
    "\n",
    "chat = ChatOpenAI()"
   ]
  },
  {
   "cell_type": "code",
   "execution_count": 20,
   "id": "9e220fc6",
   "metadata": {},
   "outputs": [
    {
     "data": {
      "text/plain": [
       "AIMessage(content='Sábado', response_metadata={'token_usage': {'completion_tokens': 2, 'prompt_tokens': 55, 'total_tokens': 57, 'completion_tokens_details': {'accepted_prediction_tokens': 0, 'audio_tokens': 0, 'reasoning_tokens': 0, 'rejected_prediction_tokens': 0}, 'prompt_tokens_details': {'audio_tokens': 0, 'cached_tokens': 0}}, 'model_name': 'gpt-3.5-turbo', 'system_fingerprint': None, 'finish_reason': 'stop', 'logprobs': None}, id='run-2badb1c7-f139-4a07-83c6-9b6afac6be7a-0')"
      ]
     },
     "execution_count": 20,
     "metadata": {},
     "output_type": "execute_result"
    }
   ],
   "source": [
    "from langchain_core.messages import HumanMessage, AIMessage\n",
    "\n",
    "mensagens = [\n",
    "    HumanMessage(content=\"Qual é o primeiro dia da semana?\"),\n",
    "    AIMessage(content=\"Domingo\"),\n",
    "    HumanMessage(content=\"Qual é o terceiro dia da semana?\"),\n",
    "    AIMessage(content=\"Terça-feira\"),\n",
    "    HumanMessage(content=\"Qual é o último dia da semana?\")  \n",
    "]\n",
    "\n",
    "chat.invoke(mensagens)"
   ]
  },
  {
   "cell_type": "code",
   "execution_count": null,
   "id": "344a5694",
   "metadata": {},
   "outputs": [],
   "source": []
  }
 ],
 "metadata": {
  "kernelspec": {
   "display_name": ".venv",
   "language": "python",
   "name": "python3"
  },
  "language_info": {
   "codemirror_mode": {
    "name": "ipython",
    "version": 3
   },
   "file_extension": ".py",
   "mimetype": "text/x-python",
   "name": "python",
   "nbconvert_exporter": "python",
   "pygments_lexer": "ipython3",
   "version": "3.10.4"
  }
 },
 "nbformat": 4,
 "nbformat_minor": 5
}
