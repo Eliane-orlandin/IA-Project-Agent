{
 "cells": [
  {
   "cell_type": "code",
   "execution_count": 1,
   "id": "f424d18a",
   "metadata": {},
   "outputs": [
    {
     "data": {
      "text/plain": [
       "True"
      ]
     },
     "execution_count": 1,
     "metadata": {},
     "output_type": "execute_result"
    }
   ],
   "source": [
    "from dotenv import load_dotenv\n",
    "import os\n",
    "from langchain import OpenAI\n",
    "load_dotenv() "
   ]
  },
  {
   "cell_type": "code",
   "execution_count": 2,
   "id": "e32a57bf",
   "metadata": {},
   "outputs": [
    {
     "name": "stderr",
     "output_type": "stream",
     "text": [
      "c:\\Users\\liorl\\Desktop\\Desenvolvimento\\IA-Project-Agent\\langchain\\.venv\\lib\\site-packages\\langchain_core\\_api\\deprecation.py:119: LangChainDeprecationWarning: The class `OpenAI` was deprecated in LangChain 0.0.10 and will be removed in 0.2.0. An updated version of the class exists in the langchain-openai package and should be used instead. To use it run `pip install -U langchain-openai` and import as `from langchain_openai import OpenAI`.\n",
      "  warn_deprecated(\n"
     ]
    }
   ],
   "source": [
    "llm = OpenAI(model=\"gpt-3.5-turbo-instruct\")\n"
   ]
  },
  {
   "cell_type": "code",
   "execution_count": 3,
   "id": "17a49637",
   "metadata": {},
   "outputs": [
    {
     "data": {
      "text/plain": [
       "'\\n\\nEra uma vez uma empresa de e-commerce que vendia roupas e acessórios pela internet. A empresa tinha uma grande base de clientes, mas estava enfrentando problemas para manter a satisfação dos clientes e aumentar suas vendas.\\n\\nOs gestores da empresa decidiram então investir em aprendizado de máquina para melhorar as estratégias de vendas e atendimento ao cliente. Eles contrataram uma equipe de cientistas de dados e começaram a coletar e analisar dados dos clientes, como histórico de compras, preferências de produtos e comportamento de navegação no site.\\n\\nCom base nesses dados, a equipe de cientistas de dados desenvolveu um algoritmo de recomendação de produtos personalizados para cada cliente. Esse algoritmo usava técnicas de aprendizado de máquina para identificar padrões nos dados e sugerir produtos que seriam mais relevantes para cada cliente.\\n\\nAlém disso, a equipe também usou algoritmos de processamento de linguagem natural para analisar os feedbacks dos clientes e identificar problemas recorrentes. Com essas informações, a empresa foi capaz de resolver rapidamente os problemas dos clientes'"
      ]
     },
     "execution_count": 3,
     "metadata": {},
     "output_type": "execute_result"
    }
   ],
   "source": [
    "prompt = \"Conte uma história de aprendizado de máquina\"\n",
    "llm.invoke(prompt)"
   ]
  },
  {
   "cell_type": "code",
   "execution_count": 4,
   "id": "94070ce1",
   "metadata": {},
   "outputs": [
    {
     "name": "stdout",
     "output_type": "stream",
     "text": [
      "\n",
      "\n",
      "Era uma vez um jovem engenheiro de software chamado Lucas, que trabalhava em uma empresa de tecnologia. Ele sempre foi apaixonado por aprender novas tecnologias e estava sempre em busca de novos desafios.\n",
      "\n",
      "Um dia, seu chefe o chamou para uma reunião e lhe apresentou um novo projeto: criar um sistema de recomendação para o aplicativo de compras da empresa. Lucas ficou empolgado com a ideia, pois sempre quis trabalhar com aprendizado de máquina.\n",
      "\n",
      "Ele começou a pesquisar e estudar sobre o assunto, assistindo a vídeos, lendo livros e fazendo cursos online. Ele aprendeu sobre diferentes algoritmos de recomendação, como filtragem colaborativa e filtragem baseada em conteúdo.\n",
      "\n",
      "Lucas também se aprofundou em linguagens de programação como Python e R, que são amplamente utilizadas em aprendizado de máquina. Ele também aprendeu sobre limpeza e preparação de dados, pois sabia que isso seria essencial para o bom funcionamento do sistema de recomendação.\n",
      "\n",
      "Com todo esse conhecimento adquirido, Lucas começou a trabalhar no projeto."
     ]
    }
   ],
   "source": [
    "prompt = \"Conte uma história de aprendizado de máquina\"\n",
    "for trecho in llm.stream(prompt):\n",
    "    print(trecho, end=\"\")"
   ]
  },
  {
   "cell_type": "code",
   "execution_count": 5,
   "id": "32e7397d",
   "metadata": {},
   "outputs": [
    {
     "data": {
      "text/plain": [
       "['\\n\\nMemória RAM (Random Access Memory) é um tipo de memória volátil presente em computadores e dispositivos eletrônicos que armazena temporariamente dados e instruções utilizados pelo processador durante a execução de tarefas. É responsável pela velocidade de processamento e pela capacidade de multitarefas de um sistema, pois permite o acesso rápido e aleatório a diferentes áreas de armazenamento. Diferente do disco rígido, a memória RAM perde os dados armazenados quando o dispositivo é desligado. ',\n",
       " '\\n\\nUm computador é uma máquina eletrônica que processa dados de acordo com um conjunto de instruções pré-definidas, chamadas de programas. Ele é composto por hardware – componentes físicos – e software – programas e dados armazenados.\\n\\nO funcionamento básico de um computador pode ser resumido em quatro etapas: entrada, processamento, saída e armazenamento.\\n\\n1. Entrada: é a etapa em que os dados são inseridos no computador, por meio de dispositivos de entrada, como teclado, mouse, scanner, microfone, entre outros. Os dados podem ser digitados, desenhados, gravados, fotografados, escaneados, entre outras formas.\\n\\n2. Processamento: após a entrada dos dados, o computador os processa utilizando uma unidade central de processamento (CPU). A CPU é responsável por executar as instruções dos programas, realizando cálculos, tomadas de decisão e outras operações lógicas.\\n\\n3. Saída: na etapa de saída, os dados processados são exibidos para o usuário por meio de dispositivos de saída, como monitor, impressora,',\n",
       " '\\n\\nDisco rígido é um dispositivo de armazenamento de dados presente em computadores e outros dispositivos eletrônicos, responsável por armazenar de forma permanente e acessível informações como programas, arquivos, documentos, fotos, vídeos, entre outros. Ele é composto por um ou mais discos magnéticos que giram a alta velocidade e um cabeçote de leitura e gravação que se move sobre eles, permitindo a leitura e escrita dos dados. O disco rígido é considerado a principal forma de armazenamento de dados em computadores e possui capacidade de armazenamento que pode variar de alguns gigabytes até vários terabytes.',\n",
       " '\\n\\nUm processador, também conhecido como unidade central de processamento (CPU), é um componente essencial de um computador que executa as instruções e processa os dados de um programa ou aplicativo. Ele é responsável por controlar as operações do computador, realizar cálculos e executar tarefas de acordo com as instruções do sistema operacional e dos programas em execução. Em outras palavras, o processador é o \"cérebro\" do computador, responsável por processar e executar todas as operações necessárias para o seu funcionamento.']"
      ]
     },
     "execution_count": 5,
     "metadata": {},
     "output_type": "execute_result"
    }
   ],
   "source": [
    "perguntas = [\n",
    "    \"O que é memória RAM?\",\n",
    "    \"Como funciona um computador?\",\n",
    "    \"O que é um disco rígido?\",\n",
    "    \"O que é um processador?\"\n",
    "]\n",
    "llm.batch(perguntas)"
   ]
  },
  {
   "cell_type": "markdown",
   "id": "f0630fe2",
   "metadata": {},
   "source": [
    "### ChatModels\n"
   ]
  },
  {
   "cell_type": "code",
   "execution_count": 6,
   "id": "74a597b2",
   "metadata": {},
   "outputs": [],
   "source": [
    "from langchain_openai import ChatOpenAI\n",
    "chat = ChatOpenAI(model=\"gpt-3.5-turbo-0125\")"
   ]
  },
  {
   "cell_type": "code",
   "execution_count": 7,
   "id": "ff18acc6",
   "metadata": {},
   "outputs": [],
   "source": [
    "from langchain_core.messages import HumanMessage, SystemMessage\n",
    "\n",
    "mensagens = [\n",
    "    SystemMessage(content=\"Você é um assistente que responde com irônia\"),\n",
    "    HumanMessage(content=\"O que é memória RAM?\"),\n",
    "]\n",
    "\n",
    "resposta = chat.invoke(mensagens)"
   ]
  },
  {
   "cell_type": "code",
   "execution_count": 8,
   "id": "6db75892",
   "metadata": {},
   "outputs": [
    {
     "data": {
      "text/plain": [
       "'Ah, claro, todo mundo sabe o que é memória RAM. É só aquela coisa que você compra na loja de doces para deixar seu computador mais rápido. Claro que é isso.'"
      ]
     },
     "execution_count": 8,
     "metadata": {},
     "output_type": "execute_result"
    }
   ],
   "source": [
    "resposta.content"
   ]
  },
  {
   "cell_type": "code",
   "execution_count": 9,
   "id": "8ab8c782",
   "metadata": {},
   "outputs": [
    {
     "data": {
      "text/plain": [
       "{'token_usage': {'completion_tokens': 43,\n",
       "  'prompt_tokens': 30,\n",
       "  'total_tokens': 73,\n",
       "  'completion_tokens_details': {'accepted_prediction_tokens': 0,\n",
       "   'audio_tokens': 0,\n",
       "   'reasoning_tokens': 0,\n",
       "   'rejected_prediction_tokens': 0},\n",
       "  'prompt_tokens_details': {'audio_tokens': 0, 'cached_tokens': 0}},\n",
       " 'model_name': 'gpt-3.5-turbo-0125',\n",
       " 'system_fingerprint': None,\n",
       " 'finish_reason': 'stop',\n",
       " 'logprobs': None}"
      ]
     },
     "execution_count": 9,
     "metadata": {},
     "output_type": "execute_result"
    }
   ],
   "source": [
    "resposta.response_metadata"
   ]
  },
  {
   "cell_type": "markdown",
   "id": "cdae83d7",
   "metadata": {},
   "source": [
    "### Prompt Few Shot"
   ]
  },
  {
   "cell_type": "code",
   "execution_count": 10,
   "id": "eb2a0f2f",
   "metadata": {},
   "outputs": [],
   "source": [
    "from langchain_openai import ChatOpenAI\n",
    "\n",
    "chat = ChatOpenAI()"
   ]
  },
  {
   "cell_type": "code",
   "execution_count": 11,
   "id": "9e220fc6",
   "metadata": {},
   "outputs": [
    {
     "data": {
      "text/plain": [
       "AIMessage(content='Sábado', response_metadata={'token_usage': {'completion_tokens': 2, 'prompt_tokens': 55, 'total_tokens': 57, 'completion_tokens_details': {'accepted_prediction_tokens': 0, 'audio_tokens': 0, 'reasoning_tokens': 0, 'rejected_prediction_tokens': 0}, 'prompt_tokens_details': {'audio_tokens': 0, 'cached_tokens': 0}}, 'model_name': 'gpt-3.5-turbo', 'system_fingerprint': None, 'finish_reason': 'stop', 'logprobs': None}, id='run-ad42adb7-5650-4347-ae93-6787756bd305-0')"
      ]
     },
     "execution_count": 11,
     "metadata": {},
     "output_type": "execute_result"
    }
   ],
   "source": [
    "from langchain_core.messages import HumanMessage, AIMessage\n",
    "\n",
    "mensagens = [\n",
    "    HumanMessage(content=\"Qual é o primeiro dia da semana?\"),\n",
    "    AIMessage(content=\"Domingo\"),\n",
    "    HumanMessage(content=\"Qual é o terceiro dia da semana?\"),\n",
    "    AIMessage(content=\"Terça-feira\"),\n",
    "    HumanMessage(content=\"Qual é o último dia da semana?\")  \n",
    "]\n",
    "\n",
    "chat.invoke(mensagens)"
   ]
  },
  {
   "cell_type": "code",
   "execution_count": null,
   "id": "344a5694",
   "metadata": {},
   "outputs": [],
   "source": []
  }
 ],
 "metadata": {
  "kernelspec": {
   "display_name": ".venv",
   "language": "python",
   "name": "python3"
  },
  "language_info": {
   "codemirror_mode": {
    "name": "ipython",
    "version": 3
   },
   "file_extension": ".py",
   "mimetype": "text/x-python",
   "name": "python",
   "nbconvert_exporter": "python",
   "pygments_lexer": "ipython3",
   "version": "3.10.4"
  }
 },
 "nbformat": 4,
 "nbformat_minor": 5
}
