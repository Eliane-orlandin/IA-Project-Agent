{
 "cells": [
  {
   "cell_type": "code",
   "execution_count": 9,
   "id": "245843a1",
   "metadata": {},
   "outputs": [],
   "source": [
    "from langchain_openai.llms import OpenAI"
   ]
  },
  {
   "cell_type": "code",
   "execution_count": 10,
   "id": "2dbb91e0",
   "metadata": {},
   "outputs": [],
   "source": [
    "llm = OpenAI()"
   ]
  },
  {
   "cell_type": "code",
   "execution_count": 11,
   "id": "fc85e092",
   "metadata": {},
   "outputs": [],
   "source": [
    "from langchain.prompts import PromptTemplate\n",
    "\n",
    "prompt_template = PromptTemplate.from_template(\"\"\"\n",
    "    Responda a seguinte pergunta do usuário:\n",
    "    {pergunta}\n",
    "\"\"\"\n",
    ")"
   ]
  },
  {
   "cell_type": "code",
   "execution_count": 12,
   "id": "87ad1dac",
   "metadata": {},
   "outputs": [
    {
     "name": "stdout",
     "output_type": "stream",
     "text": [
      "\n",
      "    Responda a seguinte pergunta do usuário:\n",
      "    O que é um SaaS?\n",
      "\n"
     ]
    }
   ],
   "source": [
    "print( prompt_template.format(pergunta=\"O que é um SaaS?\"))"
   ]
  },
  {
   "cell_type": "code",
   "execution_count": 13,
   "id": "1affa96a",
   "metadata": {},
   "outputs": [],
   "source": [
    "prompt_template = PromptTemplate.from_template(\"\"\"\n",
    "    Responda a seguinte pergunta do usuário em até {n_palavras} palavras:\n",
    "    {pergunta}\n",
    "\"\"\"\n",
    ")"
   ]
  },
  {
   "cell_type": "code",
   "execution_count": 14,
   "id": "0c4f6035",
   "metadata": {},
   "outputs": [
    {
     "name": "stdout",
     "output_type": "stream",
     "text": [
      "\n",
      "    Responda a seguinte pergunta do usuário em até 15 palavras:\n",
      "    O que é um SaaS?\n",
      "\n"
     ]
    }
   ],
   "source": [
    "print( prompt_template.format(pergunta=\"O que é um SaaS?\", n_palavras=15))"
   ]
  },
  {
   "cell_type": "code",
   "execution_count": 16,
   "id": "ae9747e4",
   "metadata": {},
   "outputs": [],
   "source": [
    "prompt_template = PromptTemplate.from_template(\"\"\"\n",
    "    Responda a seguinte pergunta do usuário em até {n_palavras} palavras:\n",
    "    {pergunta}\n",
    "\"\"\",\n",
    "partial_variables={\"n_palavras\": 10}\n",
    ")"
   ]
  },
  {
   "cell_type": "code",
   "execution_count": 17,
   "id": "7048d044",
   "metadata": {},
   "outputs": [
    {
     "name": "stdout",
     "output_type": "stream",
     "text": [
      "\n",
      "    Responda a seguinte pergunta do usuário em até 10 palavras:\n",
      "    O que é LangChain?\n",
      "\n"
     ]
    }
   ],
   "source": [
    "print( prompt_template.format(pergunta=\"O que é LangChain?\"))"
   ]
  },
  {
   "cell_type": "markdown",
   "id": "471eb3e6",
   "metadata": {},
   "source": [
    "### Utilizando múltiplos prompts"
   ]
  },
  {
   "cell_type": "code",
   "execution_count": 42,
   "id": "6ba22e7a",
   "metadata": {},
   "outputs": [],
   "source": [
    "from langchain.prompts import PromptTemplate\n",
    "\n",
    "template_word_cont = PromptTemplate.from_template(\"\"\"\n",
    "    Responda a seguinte pergunta do usuário em até {n_palavras} palavras:\n",
    "    {pergunta}\n",
    "\"\"\"\n",
    ")\n",
    "\n",
    "template_line_count = PromptTemplate.from_template(\"\"\"\n",
    "    Responda a seguinte pergunta do usuário em até {n_linhas} linhas:\n",
    "    {pergunta}\n",
    "\"\"\"\n",
    ")\n",
    "\n",
    "template_idioma = PromptTemplate.from_template(\"\"\"\n",
    "    Responda a seguinte pergunta do usuário em {idioma}.\n",
    "\"\"\"\n",
    ")\n",
    "\n",
    "template_final = (template_word_cont + template_line_count + template_idioma +\n",
    "\"    Responda a pergunta seguindo as instruções {pergunta}.\"\n",
    ")"
   ]
  },
  {
   "cell_type": "code",
   "execution_count": 24,
   "id": "d4fd2e7d",
   "metadata": {},
   "outputs": [
    {
     "name": "stdout",
     "output_type": "stream",
     "text": [
      "input_variables=['idioma', 'n_linhas', 'n_palavras', 'pergunta'] template='\\n    Responda a seguinte pergunta do usuário em até {n_palavras} palavras:\\n    {pergunta}\\n\\n    Responda a seguinte pergunta do usuário em até {n_linhas} linhas:\\n    {pergunta}\\n\\n    Responda a seguinte pergunta do usuário em {idioma}.\\nResponda a pergunta seguindo as instruções {pergunta}.'\n"
     ]
    }
   ],
   "source": [
    "print(template_final)"
   ]
  },
  {
   "cell_type": "code",
   "execution_count": 43,
   "id": "37642554",
   "metadata": {},
   "outputs": [
    {
     "data": {
      "text/plain": [
       "'\\nLangChain is a blockchain platform that provides a decentralized environment for building and running smart contracts. It aims to revolutionize the way we interact and transact with each other.'"
      ]
     },
     "execution_count": 43,
     "metadata": {},
     "output_type": "execute_result"
    }
   ],
   "source": [
    "prompt_final = template_final.format(n_palavras=15, n_linhas=2, idioma=\"inglês\", pergunta=\"O que é LangChain?\")\n",
    "llm.invoke(prompt_final)"
   ]
  },
  {
   "cell_type": "code",
   "execution_count": 44,
   "id": "e322d0e1",
   "metadata": {},
   "outputs": [
    {
     "name": "stdout",
     "output_type": "stream",
     "text": [
      "\n",
      "    Responda a seguinte pergunta do usuário em até 15 palavras:\n",
      "    O que é LangChain?\n",
      "\n",
      "    Responda a seguinte pergunta do usuário em até 2 linhas:\n",
      "    O que é LangChain?\n",
      "\n",
      "    Responda a seguinte pergunta do usuário em inglês.\n",
      "    Responda a pergunta seguindo as instruções O que é LangChain?.\n"
     ]
    }
   ],
   "source": [
    "print(prompt_final)"
   ]
  }
 ],
 "metadata": {
  "kernelspec": {
   "display_name": ".venv",
   "language": "python",
   "name": "python3"
  },
  "language_info": {
   "codemirror_mode": {
    "name": "ipython",
    "version": 3
   },
   "file_extension": ".py",
   "mimetype": "text/x-python",
   "name": "python",
   "nbconvert_exporter": "python",
   "pygments_lexer": "ipython3",
   "version": "3.10.4"
  }
 },
 "nbformat": 4,
 "nbformat_minor": 5
}
