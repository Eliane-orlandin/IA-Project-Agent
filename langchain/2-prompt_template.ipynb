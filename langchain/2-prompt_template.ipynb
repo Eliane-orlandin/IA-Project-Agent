{
 "cells": [
  {
   "cell_type": "code",
   "execution_count": 1,
   "id": "245843a1",
   "metadata": {},
   "outputs": [
    {
     "data": {
      "text/plain": [
       "True"
      ]
     },
     "execution_count": 1,
     "metadata": {},
     "output_type": "execute_result"
    }
   ],
   "source": [
    "from langchain_openai.llms import OpenAI\n",
    "from dotenv import load_dotenv, find_dotenv\n",
    "\n",
    "load_dotenv(find_dotenv())  "
   ]
  },
  {
   "cell_type": "code",
   "execution_count": 2,
   "id": "2dbb91e0",
   "metadata": {},
   "outputs": [],
   "source": [
    "llm = OpenAI()"
   ]
  },
  {
   "cell_type": "code",
   "execution_count": 3,
   "id": "fc85e092",
   "metadata": {},
   "outputs": [],
   "source": [
    "from langchain.prompts import PromptTemplate\n",
    "\n",
    "prompt_template = PromptTemplate.from_template(\"\"\"\n",
    "    Responda a seguinte pergunta do usuário:\n",
    "    {pergunta}\n",
    "\"\"\"\n",
    ")"
   ]
  },
  {
   "cell_type": "code",
   "execution_count": 4,
   "id": "87ad1dac",
   "metadata": {},
   "outputs": [
    {
     "name": "stdout",
     "output_type": "stream",
     "text": [
      "\n",
      "    Responda a seguinte pergunta do usuário:\n",
      "    O que é um SaaS?\n",
      "\n"
     ]
    }
   ],
   "source": [
    "print( prompt_template.format(pergunta=\"O que é um SaaS?\"))"
   ]
  },
  {
   "cell_type": "code",
   "execution_count": 5,
   "id": "1affa96a",
   "metadata": {},
   "outputs": [],
   "source": [
    "prompt_template = PromptTemplate.from_template(\"\"\"\n",
    "    Responda a seguinte pergunta do usuário em até {n_palavras} palavras:\n",
    "    {pergunta}\n",
    "\"\"\"\n",
    ")"
   ]
  },
  {
   "cell_type": "code",
   "execution_count": 6,
   "id": "0c4f6035",
   "metadata": {},
   "outputs": [
    {
     "name": "stdout",
     "output_type": "stream",
     "text": [
      "\n",
      "    Responda a seguinte pergunta do usuário em até 15 palavras:\n",
      "    O que é um SaaS?\n",
      "\n"
     ]
    }
   ],
   "source": [
    "print( prompt_template.format(pergunta=\"O que é um SaaS?\", n_palavras=15))"
   ]
  },
  {
   "cell_type": "code",
   "execution_count": 7,
   "id": "ae9747e4",
   "metadata": {},
   "outputs": [],
   "source": [
    "prompt_template = PromptTemplate.from_template(\"\"\"\n",
    "    Responda a seguinte pergunta do usuário em até {n_palavras} palavras:\n",
    "    {pergunta}\n",
    "\"\"\",\n",
    "partial_variables={\"n_palavras\": 10}\n",
    ")"
   ]
  },
  {
   "cell_type": "code",
   "execution_count": 8,
   "id": "7048d044",
   "metadata": {},
   "outputs": [
    {
     "name": "stdout",
     "output_type": "stream",
     "text": [
      "\n",
      "    Responda a seguinte pergunta do usuário em até 10 palavras:\n",
      "    O que é LangChain?\n",
      "\n"
     ]
    }
   ],
   "source": [
    "print( prompt_template.format(pergunta=\"O que é LangChain?\"))"
   ]
  },
  {
   "cell_type": "markdown",
   "id": "471eb3e6",
   "metadata": {},
   "source": [
    "### Utilizando múltiplos prompts"
   ]
  },
  {
   "cell_type": "code",
   "execution_count": 9,
   "id": "6ba22e7a",
   "metadata": {},
   "outputs": [],
   "source": [
    "from langchain.prompts import PromptTemplate\n",
    "\n",
    "template_word_cont = PromptTemplate.from_template(\"\"\"\n",
    "    Responda a seguinte pergunta do usuário em até {n_palavras} palavras:\n",
    "    {pergunta}\n",
    "\"\"\"\n",
    ")\n",
    "\n",
    "template_line_count = PromptTemplate.from_template(\"\"\"\n",
    "    Responda a seguinte pergunta do usuário em até {n_linhas} linhas:\n",
    "    {pergunta}\n",
    "\"\"\"\n",
    ")\n",
    "\n",
    "template_idioma = PromptTemplate.from_template(\"\"\"\n",
    "    Responda a seguinte pergunta do usuário em {idioma}.\n",
    "\"\"\"\n",
    ")\n",
    "\n",
    "template_final = (template_word_cont + template_line_count + template_idioma +\n",
    "\"    Responda a pergunta seguindo as instruções {pergunta}.\"\n",
    ")"
   ]
  },
  {
   "cell_type": "code",
   "execution_count": 10,
   "id": "d4fd2e7d",
   "metadata": {},
   "outputs": [
    {
     "name": "stdout",
     "output_type": "stream",
     "text": [
      "input_variables=['idioma', 'n_linhas', 'n_palavras', 'pergunta'] template='\\n    Responda a seguinte pergunta do usuário em até {n_palavras} palavras:\\n    {pergunta}\\n\\n    Responda a seguinte pergunta do usuário em até {n_linhas} linhas:\\n    {pergunta}\\n\\n    Responda a seguinte pergunta do usuário em {idioma}.\\n    Responda a pergunta seguindo as instruções {pergunta}.'\n"
     ]
    }
   ],
   "source": [
    "print(template_final)"
   ]
  },
  {
   "cell_type": "code",
   "execution_count": 11,
   "id": "37642554",
   "metadata": {},
   "outputs": [
    {
     "data": {
      "text/plain": [
       "'\\n\\n    LangChain is a blockchain platform designed for creating and managing multilingual content.'"
      ]
     },
     "execution_count": 11,
     "metadata": {},
     "output_type": "execute_result"
    }
   ],
   "source": [
    "prompt_final = template_final.format(n_palavras=15, n_linhas=2, idioma=\"inglês\", pergunta=\"O que é LangChain?\")\n",
    "llm.invoke(prompt_final)"
   ]
  },
  {
   "cell_type": "code",
   "execution_count": 12,
   "id": "e322d0e1",
   "metadata": {},
   "outputs": [
    {
     "name": "stdout",
     "output_type": "stream",
     "text": [
      "\n",
      "    Responda a seguinte pergunta do usuário em até 15 palavras:\n",
      "    O que é LangChain?\n",
      "\n",
      "    Responda a seguinte pergunta do usuário em até 2 linhas:\n",
      "    O que é LangChain?\n",
      "\n",
      "    Responda a seguinte pergunta do usuário em inglês.\n",
      "    Responda a pergunta seguindo as instruções O que é LangChain?.\n"
     ]
    }
   ],
   "source": [
    "print(prompt_final)"
   ]
  },
  {
   "cell_type": "markdown",
   "id": "0d39896d",
   "metadata": {},
   "source": [
    "### Template para chat"
   ]
  },
  {
   "cell_type": "code",
   "execution_count": 13,
   "id": "612c822e",
   "metadata": {},
   "outputs": [
    {
     "data": {
      "text/plain": [
       "[HumanMessage(content='Essa é minha dúvida: Quem é você?')]"
      ]
     },
     "execution_count": 13,
     "metadata": {},
     "output_type": "execute_result"
    }
   ],
   "source": [
    "from langchain.prompts import ChatPromptTemplate\n",
    "\n",
    "chat_template = ChatPromptTemplate.from_template(\"Essa é minha dúvida: {duvida}\")\n",
    "chat_template.format_messages(duvida=\"Quem é você?\")"
   ]
  },
  {
   "cell_type": "code",
   "execution_count": 14,
   "id": "fa63d242",
   "metadata": {},
   "outputs": [],
   "source": [
    "chat_template = ChatPromptTemplate.from_messages([\n",
    "    \"system\", \"Você é um assistente irônico e se chama {nome_assistente}.\",\n",
    "    (\"human\", \"Olá, como vai?\"),\n",
    "    (\"ai\", \"Estou bem, como posso lhe ajudar?\"),\n",
    "    (\"human\", \"{pergunta}\")\n",
    "])"
   ]
  },
  {
   "cell_type": "code",
   "execution_count": 15,
   "id": "a99b14f0",
   "metadata": {},
   "outputs": [
    {
     "data": {
      "text/plain": [
       "ChatPromptTemplate(input_variables=['nome_assistente', 'pergunta'], messages=[HumanMessagePromptTemplate(prompt=PromptTemplate(input_variables=[], template='system')), HumanMessagePromptTemplate(prompt=PromptTemplate(input_variables=['nome_assistente'], template='Você é um assistente irônico e se chama {nome_assistente}.')), HumanMessagePromptTemplate(prompt=PromptTemplate(input_variables=[], template='Olá, como vai?')), AIMessagePromptTemplate(prompt=PromptTemplate(input_variables=[], template='Estou bem, como posso lhe ajudar?')), HumanMessagePromptTemplate(prompt=PromptTemplate(input_variables=['pergunta'], template='{pergunta}'))])"
      ]
     },
     "execution_count": 15,
     "metadata": {},
     "output_type": "execute_result"
    }
   ],
   "source": [
    "chat_template"
   ]
  },
  {
   "cell_type": "code",
   "execution_count": 16,
   "id": "f7eb2dc0",
   "metadata": {},
   "outputs": [
    {
     "data": {
      "text/plain": [
       "[HumanMessage(content='system'),\n",
       " HumanMessage(content='Você é um assistente irônico e se chama Liorl.'),\n",
       " HumanMessage(content='Olá, como vai?'),\n",
       " AIMessage(content='Estou bem, como posso lhe ajudar?'),\n",
       " HumanMessage(content='Qual é o seu nome?')]"
      ]
     },
     "execution_count": 16,
     "metadata": {},
     "output_type": "execute_result"
    }
   ],
   "source": [
    "chat_template.format_messages(nome_assistente=\"Liorl\", pergunta=\"Qual é o seu nome?\")"
   ]
  },
  {
   "cell_type": "code",
   "execution_count": 17,
   "metadata": {},
   "outputs": [
    {
     "data": {
      "text/plain": [
       "AIMessage(content='Meu nome é Liorl, o assistente irônico. Como posso ser sarcástico hoje?', response_metadata={'token_usage': {'completion_tokens': 24, 'prompt_tokens': 64, 'total_tokens': 88, 'completion_tokens_details': {'accepted_prediction_tokens': 0, 'audio_tokens': 0, 'reasoning_tokens': 0, 'rejected_prediction_tokens': 0}, 'prompt_tokens_details': {'audio_tokens': 0, 'cached_tokens': 0}}, 'model_name': 'gpt-3.5-turbo', 'system_fingerprint': None, 'finish_reason': 'stop', 'logprobs': None}, id='run-5d8e98ad-778f-4584-a69c-5ef8f3df4102-0')"
      ]
     },
     "execution_count": 17,
     "metadata": {},
     "output_type": "execute_result"
    }
   ],
   "source": [
    "from langchain_openai.chat_models import ChatOpenAI\n",
    "\n",
    "chat = ChatOpenAI()\n",
    "\n",
    "chat.invoke(chat_template.format_messages(nome_assistente=\"Liorl\", pergunta=\"Qual é o seu nome?\"))"
   ]
  },
  {
   "cell_type": "markdown",
   "id": "77c74e40",
   "metadata": {},
   "source": [
    "### Few shot prompting\n"
   ]
  },
  {
   "cell_type": "code",
   "execution_count": 18,
   "id": "c725d4e9",
   "metadata": {},
   "outputs": [],
   "source": [
    "exemplos = [\n",
    "    {\"pergunta\": \"Qual é a maior montanha do mundo, o Monte Everest ou o K2?\", \n",
    "     \"resposta\": \n",
    "     \"\"\"São necessárias perguntas de acompanhamento aqui: Sim. \n",
    "Pergunta de acompanhamento: Qual é a altura do Monte Everest? \n",
    "Resposta intermediária: O Monte Everest tem 8.848 metros de altura. \n",
    "Pergunta de acompanhamento: Qual é a altura do K2? \n",
    "Resposta intermediária: O K2 tem 8.611 metros de altura. \n",
    "Então a resposta final é: Monte Everest \n",
    "\"\"\", \n",
    "    }, \n",
    "    {\"pergunta\": \"Quem nasceu primeiro, Charles Darwin ou Albert Einstein?\", \n",
    "     \"resposta\": \n",
    "     \"\"\"São necessárias perguntas de acompanhamento aqui: Sim. \n",
    "Pergunta de acompanhamento: Quando nasceu Charles Darwin? \n",
    "Resposta intermediária: Charles Darwin nasceu em 12 de fevereiro de 1809. \n",
    "Pergunta de acompanhamento: Quando nasceu Albert Einstein? \n",
    "Resposta intermediária: Albert Einstein nasceu em 14 de março de 1879. \n",
    "Então a resposta final é: Charles Darwin \n",
    "\"\"\", \n",
    "    }, \n",
    "    {\"pergunta\": \"Quem foi o pai de Napoleão Bonaparte?\",\n",
    "     \"resposta\": \n",
    "     \"\"\"São necessárias perguntas de acompanhamento aqui: Sim. \n",
    "Pergunta de acompanhamento: Quem foi Napoleão Bonaparte? \n",
    "Resposta intermediária: Napoleão Bonaparte foi um líder militar e imperador francês. \n",
    "Pergunta de acompanhamento: Quem foi o pai de Napoleão Bonaparte? \n",
    "Resposta intermediária: O pai de Napoleão Bonaparte foi Carlo Buonaparte. \n",
    "Então a resposta final é: Carlo Buonaparte \n",
    "\"\"\", \n",
    "    },\n",
    "    {\"pergunta\": \"Os filmes 'O Senhor dos Anéis' e 'O Hobbit' foram dirigidos pelo mesmo diretor?\", \n",
    "     \"resposta\": \n",
    "     \"\"\"São necessárias perguntas de acompanhamento aqui: Sim. \n",
    "Pergunta de acompanhamento: Quem dirigiu 'O Senhor dos Anéis'? \n",
    "Resposta intermediária: 'O Senhor dos Anéis' foi dirigido por Peter Jackson. \n",
    "Pergunta de acompanhamento: Quem dirigiu 'O Hobbit'? \n",
    "Resposta intermediária: 'O Hobbit' também foi dirigido por Peter Jackson. \n",
    "Então a resposta final é: Sim \n",
    "\"\"\",\n",
    "    },\n",
    "]"
   ]
  },
  {
   "cell_type": "code",
   "execution_count": 19,
   "id": "123ba7af",
   "metadata": {},
   "outputs": [
    {
     "data": {
      "text/plain": [
       "'Pergunta Qual é a maior montanha do mundo, o Monte Everest ou o K2?\\nSão necessárias perguntas de acompanhamento aqui: Sim. \\nPergunta de acompanhamento: Qual é a altura do Monte Everest? \\nResposta intermediária: O Monte Everest tem 8.848 metros de altura. \\nPergunta de acompanhamento: Qual é a altura do K2? \\nResposta intermediária: O K2 tem 8.611 metros de altura. \\nEntão a resposta final é: Monte Everest \\n'"
      ]
     },
     "execution_count": 19,
     "metadata": {},
     "output_type": "execute_result"
    }
   ],
   "source": [
    "from langchain.prompts.few_shot import FewShotPromptTemplate\n",
    "from langchain.prompts.prompt import PromptTemplate\n",
    "\n",
    "example_prompt = PromptTemplate(\n",
    "    input_variables=[\"pergunta\", \"resposta\"],\n",
    "    template=\"Pergunta {pergunta}\\n{resposta}\"\n",
    ")\n",
    "\n",
    "example_prompt.format(**exemplos[0])"
   ]
  },
  {
   "cell_type": "code",
   "execution_count": 20,
   "id": "3f456908",
   "metadata": {},
   "outputs": [],
   "source": [
    "prompt = FewShotPromptTemplate(\n",
    "    examples=exemplos,\n",
    "    example_prompt=example_prompt,\n",
    "    suffix=\"Pergunta: {input}\",\n",
    "    input_variables=[\"input\"]\n",
    "    \n",
    ")"
   ]
  },
  {
   "cell_type": "code",
   "execution_count": 21,
   "id": "a3b51593",
   "metadata": {},
   "outputs": [
    {
     "name": "stdout",
     "output_type": "stream",
     "text": [
      "Pergunta Qual é a maior montanha do mundo, o Monte Everest ou o K2?\n",
      "São necessárias perguntas de acompanhamento aqui: Sim. \n",
      "Pergunta de acompanhamento: Qual é a altura do Monte Everest? \n",
      "Resposta intermediária: O Monte Everest tem 8.848 metros de altura. \n",
      "Pergunta de acompanhamento: Qual é a altura do K2? \n",
      "Resposta intermediária: O K2 tem 8.611 metros de altura. \n",
      "Então a resposta final é: Monte Everest \n",
      "\n",
      "\n",
      "Pergunta Quem nasceu primeiro, Charles Darwin ou Albert Einstein?\n",
      "São necessárias perguntas de acompanhamento aqui: Sim. \n",
      "Pergunta de acompanhamento: Quando nasceu Charles Darwin? \n",
      "Resposta intermediária: Charles Darwin nasceu em 12 de fevereiro de 1809. \n",
      "Pergunta de acompanhamento: Quando nasceu Albert Einstein? \n",
      "Resposta intermediária: Albert Einstein nasceu em 14 de março de 1879. \n",
      "Então a resposta final é: Charles Darwin \n",
      "\n",
      "\n",
      "Pergunta Quem foi o pai de Napoleão Bonaparte?\n",
      "São necessárias perguntas de acompanhamento aqui: Sim. \n",
      "Pergunta de acompanhamento: Quem foi Napoleão Bonaparte? \n",
      "Resposta intermediária: Napoleão Bonaparte foi um líder militar e imperador francês. \n",
      "Pergunta de acompanhamento: Quem foi o pai de Napoleão Bonaparte? \n",
      "Resposta intermediária: O pai de Napoleão Bonaparte foi Carlo Buonaparte. \n",
      "Então a resposta final é: Carlo Buonaparte \n",
      "\n",
      "\n",
      "Pergunta Os filmes 'O Senhor dos Anéis' e 'O Hobbit' foram dirigidos pelo mesmo diretor?\n",
      "São necessárias perguntas de acompanhamento aqui: Sim. \n",
      "Pergunta de acompanhamento: Quem dirigiu 'O Senhor dos Anéis'? \n",
      "Resposta intermediária: 'O Senhor dos Anéis' foi dirigido por Peter Jackson. \n",
      "Pergunta de acompanhamento: Quem dirigiu 'O Hobbit'? \n",
      "Resposta intermediária: 'O Hobbit' também foi dirigido por Peter Jackson. \n",
      "Então a resposta final é: Sim \n",
      "\n",
      "\n",
      "Pergunta: Quem é melhor, o Messi ou o Cristiano Ronaldo?\n"
     ]
    }
   ],
   "source": [
    "print(prompt.format(input=\"Quem é melhor, o Messi ou o Cristiano Ronaldo?\"))"
   ]
  },
  {
   "cell_type": "code",
   "execution_count": 22,
   "id": "acf6b93a",
   "metadata": {},
   "outputs": [
    {
     "data": {
      "text/plain": [
       "'\\nSão necessárias perguntas de acompanhamento aqui: Sim. \\nPergunta de acompanhamento: Quantos goals Messi fez? \\nResposta intermediária: Segundo dados do site Globo Esporte, Messi fez 736 goals em sua carreira. \\nPergunta de acompanhamento: Quantos goals Cristiano Ronaldo fez? \\nResposta intermediária: De acordo com o mesmo site, Cristiano Ronaldo fez 733 goals em sua carreira. \\nEntão a resposta final é: Messi'"
      ]
     },
     "execution_count": 22,
     "metadata": {},
     "output_type": "execute_result"
    }
   ],
   "source": [
    "llm.invoke(prompt.format(input=\"Quem fez mais goals, Messi ou Cristiano Ronaldo?\"))"
   ]
  }
 ],
 "metadata": {
  "kernelspec": {
   "display_name": ".venv",
   "language": "python",
   "name": "python3"
  },
  "language_info": {
   "codemirror_mode": {
    "name": "ipython",
    "version": 3
   },
   "file_extension": ".py",
   "mimetype": "text/x-python",
   "name": "python",
   "nbconvert_exporter": "python",
   "pygments_lexer": "ipython3",
   "version": "3.12.4"
  }
 },
 "nbformat": 4,
 "nbformat_minor": 5
}
